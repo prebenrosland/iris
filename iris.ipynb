{
 "cells": [
  {
   "cell_type": "code",
   "execution_count": 1,
   "id": "6f02e8bc",
   "metadata": {},
   "outputs": [],
   "source": [
    "#Importing relevant libraries\n",
    "import pandas as pd\n",
    "import matplotlib.pyplot as plt\n",
    "import numpy as np\n",
    "from sklearn.model_selection import train_test_split\n",
    "from sklearn.metrics import confusion_matrix\n",
    "\n",
    "#Reading the dataset and splitting features from classes\n",
    "iris = pd.read_csv('iris.data', header=None)\n",
    "#X = iris.iloc[:, :2]\n",
    "X = iris.iloc[:, :-1]\n",
    "y = iris.iloc[:, -1]\n",
    "\n",
    "#Splitting test set from training set\n",
    "X, X_test, y, y_test = train_test_split(X, y, test_size=0.3, random_state=0)\n",
    "\n",
    "#Calculating probability density\n",
    "def calculate_gaussian_p(x, w, mean, std):\n",
    "    prob = []\n",
    "    for i in range(len(w)):\n",
    "        arr = []\n",
    "        for j in range(len(x)):\n",
    "            arr.append(1 / (std[i][j] * np.sqrt(2 * np.pi)) * np.e ** (-0.5 * ((x[j] - mean[i][j]) / std[i][j]) ** 2))\n",
    "        prob.append(arr)\n",
    "\n",
    "    \n",
    "    return prob\n",
    "\n",
    "#Normalizing probabilities\n",
    "def calculate_probability(p):\n",
    "    probability = []\n",
    "    likelyhood_sum = 0\n",
    "    for i in range(len(p)):\n",
    "        prob = 1\n",
    "        for j in range(len(p[0])):\n",
    "            prob *= p[i][j]\n",
    "        probability.append(prob)\n",
    "        \n",
    "    likelyhood_sum = sum(probability)\n",
    "    for i in range(len(probability)):\n",
    "        probability[i] = probability[i] / likelyhood_sum\n",
    "    return probability\n",
    "\n",
    "#Function for prediction based on probabilities for each class\n",
    "def predict(res):\n",
    "    return classes[np.argmax(res)]\n",
    "\n",
    "#Calculating standard deviations and mean\n",
    "classes = np.unique(y)\n",
    "group = [X[y == i] for i in classes]\n",
    "\n",
    "mean = [np.mean(c, axis=0) for c in group]\n",
    "std = [np.std(c, axis=0) for c in group]"
   ]
  },
  {
   "cell_type": "code",
   "execution_count": 2,
   "id": "b156b7f3",
   "metadata": {},
   "outputs": [],
   "source": [
    "#Initializing a list for storing predictions\n",
    "predictions = []\n",
    "\n",
    "#Making predictions for the test set\n",
    "for x_test in X_test.iloc:\n",
    "    prob = calculate_gaussian_p(x_test, classes, mean, std)\n",
    "    dist = calculate_probability(prob)\n",
    "    predictions.append(predict(dist))"
   ]
  },
  {
   "cell_type": "code",
   "execution_count": 3,
   "id": "e0f172bd",
   "metadata": {},
   "outputs": [
    {
     "name": "stdout",
     "output_type": "stream",
     "text": [
      "Confusion Matrix: \n",
      " [[16  0  0]\n",
      " [ 0 18  0]\n",
      " [ 0  1 10]]\n",
      "Accuracy:  0.9777777777777777\n"
     ]
    }
   ],
   "source": [
    "#Printing a cunfusion matrix and accuracy based on comparison of the predictions and the test set\n",
    "cm = confusion_matrix(y_test, predictions)\n",
    "accuracy = cm.diagonal().sum() / cm.sum()\n",
    "print(\"Confusion Matrix: \\n\", cm)\n",
    "print(\"Accuracy: \", accuracy)"
   ]
  }
 ],
 "metadata": {
  "kernelspec": {
   "display_name": "Python 3 (ipykernel)",
   "language": "python",
   "name": "python3"
  },
  "language_info": {
   "codemirror_mode": {
    "name": "ipython",
    "version": 3
   },
   "file_extension": ".py",
   "mimetype": "text/x-python",
   "name": "python",
   "nbconvert_exporter": "python",
   "pygments_lexer": "ipython3",
   "version": "3.11.4"
  }
 },
 "nbformat": 4,
 "nbformat_minor": 5
}
